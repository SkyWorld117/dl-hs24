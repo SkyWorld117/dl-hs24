{
 "cells": [
  {
   "cell_type": "code",
   "execution_count": 7,
   "metadata": {},
   "outputs": [],
   "source": [
    "import os, glob, re\n",
    "import numpy as np\n",
    "import matplotlib.pyplot as plt\n",
    "import json\n",
    "import pandas as pd\n"
   ]
  },
  {
   "cell_type": "code",
   "execution_count": 19,
   "metadata": {},
   "outputs": [],
   "source": [
    "def get_experiment(hash, experiment_dir):\n",
    "    path = f\"data/{hash}/{experiment_dir}\"\n",
    "    all_data = []\n",
    "    \n",
    "    # get all experiment directories\n",
    "    experiment_dirs = glob.glob(f\"{path}/experiment_*\")\n",
    "    \n",
    "    for exp_dir in experiment_dirs:\n",
    "        exp_name = os.path.basename(exp_dir)\n",
    "        session_dirs = glob.glob(f\"{exp_dir}/*TrainingSession_*\")\n",
    "        exp_data = {'experiment_name': exp_name}\n",
    "        \n",
    "        for session_dir in session_dirs:\n",
    "            #get first word (e.g., \"SNNTrainingSession\" -> \"SNN\")\n",
    "            session_type = os.path.basename(session_dir).split('Training')[0]            \n",
    "            \n",
    "            \n",
    "            with open(os.path.join(session_dir, \"metrics.json\"), 'r') as f:\n",
    "                metrics = json.load(f)\n",
    "            with open(os.path.join(session_dir, \"cf_metrics.json\"), 'r') as f:\n",
    "                cf_metrics = json.load(f)\n",
    "                \n",
    "            for k, v in metrics.items():\n",
    "                exp_data[f\"{session_type}_{k}\"] = v\n",
    "            for k, v in cf_metrics.items():\n",
    "                exp_data[f\"{session_type}_{k}\"] = v\n",
    "                \n",
    "        all_data.append(exp_data)\n",
    "    \n",
    "    df = pd.DataFrame(all_data)\n",
    "    \n",
    "    return df\n"
   ]
  },
  {
   "cell_type": "markdown",
   "metadata": {},
   "source": [
    "### baseline vs SNN"
   ]
  },
  {
   "cell_type": "code",
   "execution_count": 25,
   "metadata": {},
   "outputs": [
    {
     "name": "stdout",
     "output_type": "stream",
     "text": [
      "Baseline_omega_base    0.852814\n",
      "Baseline_omega_new     0.360971\n",
      "Baseline_omega_all     0.618026\n",
      "dtype: float64\n",
      "Baseline_omega_base    0.050518\n",
      "Baseline_omega_new     0.149099\n",
      "Baseline_omega_all     0.039439\n",
      "dtype: float64\n",
      "SNN_omega_base    0.865429\n",
      "SNN_omega_new     0.866343\n",
      "SNN_omega_all     0.755260\n",
      "dtype: float64\n",
      "SNN_omega_base    0.119982\n",
      "SNN_omega_new     0.046706\n",
      "SNN_omega_all     0.099302\n",
      "dtype: float64\n"
     ]
    }
   ],
   "source": [
    "df_snn = get_experiment(\"accc798\", \"#2_SNN\")\n",
    "df_ga = get_experiment(\"accc798\", \"#1_lasso\")\n",
    "#cf_metrics\n",
    "print(df_snn[['Baseline_omega_base', 'Baseline_omega_new', 'Baseline_omega_all']].mean())\n",
    "print(df_snn[['Baseline_omega_base', 'Baseline_omega_new', 'Baseline_omega_all']].std())\n",
    "\n",
    "print(df_snn[['SNN_omega_base', 'SNN_omega_new', 'SNN_omega_all']].mean())\n",
    "print(df_snn[['SNN_omega_base', 'SNN_omega_new', 'SNN_omega_all']].std())"
   ]
  }
 ],
 "metadata": {
  "kernelspec": {
   "display_name": "ag",
   "language": "python",
   "name": "python3"
  },
  "language_info": {
   "codemirror_mode": {
    "name": "ipython",
    "version": 3
   },
   "file_extension": ".py",
   "mimetype": "text/x-python",
   "name": "python",
   "nbconvert_exporter": "python",
   "pygments_lexer": "ipython3",
   "version": "3.11.8"
  }
 },
 "nbformat": 4,
 "nbformat_minor": 2
}
